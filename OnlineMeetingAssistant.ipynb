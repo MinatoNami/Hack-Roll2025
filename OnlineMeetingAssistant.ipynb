{
 "cells": [
  {
   "cell_type": "markdown",
   "metadata": {},
   "source": [
    "# Hack&Roll 2025 submission\n",
    "## Online Meeting Assistant\n",
    "\n",
    "### This is a project that implements facial emotion recognition with environmental sensors.\n",
    "\n",
    "Datasets used:\n",
    "[FER2013](https://www.kaggle.com/datasets/msambare/fer2013)\n",
    "\n",
    "Make sure you have Python installed. \n",
    "\n",
    "To install dependencies, run the following in your PowerShell (Windows) or Terminal (Mac)\n",
    "\n",
    "```console \n",
    "pip install -r requirements.txt\n",
    "``` \n",
    "\n",
    "For the Raspberry Pi code, install the dependencies using the following command on the Raspberry Pi Terminal\n",
    "\n",
    "```console \n",
    "pip install -r rpi_requirements.txt\n",
    "``` "
   ]
  },
  {
   "cell_type": "markdown",
   "metadata": {},
   "source": [
    "### Step 1: Set Up Libraries and Data"
   ]
  },
  {
   "cell_type": "code",
   "execution_count": 1,
   "metadata": {},
   "outputs": [
    {
     "name": "stdout",
     "output_type": "stream",
     "text": [
      "Looking in indexes: https://download.pytorch.org/whl/cu124, https://pypi.ngc.nvidia.com\n",
      "Requirement already satisfied: torch in c:\\users\\chong\\onedrive\\desktop\\git repositories\\hack-roll2025\\env\\lib\\site-packages (2.5.1+cu124)\n",
      "Requirement already satisfied: torchvision in c:\\users\\chong\\onedrive\\desktop\\git repositories\\hack-roll2025\\env\\lib\\site-packages (0.20.1)\n",
      "Requirement already satisfied: torchaudio in c:\\users\\chong\\onedrive\\desktop\\git repositories\\hack-roll2025\\env\\lib\\site-packages (2.5.1+cu124)\n",
      "Requirement already satisfied: filelock in c:\\users\\chong\\onedrive\\desktop\\git repositories\\hack-roll2025\\env\\lib\\site-packages (from torch) (3.16.1)\n",
      "Requirement already satisfied: typing-extensions>=4.8.0 in c:\\users\\chong\\onedrive\\desktop\\git repositories\\hack-roll2025\\env\\lib\\site-packages (from torch) (4.12.2)\n",
      "Requirement already satisfied: networkx in c:\\users\\chong\\onedrive\\desktop\\git repositories\\hack-roll2025\\env\\lib\\site-packages (from torch) (3.4.2)\n",
      "Requirement already satisfied: jinja2 in c:\\users\\chong\\onedrive\\desktop\\git repositories\\hack-roll2025\\env\\lib\\site-packages (from torch) (3.1.4)\n",
      "Requirement already satisfied: fsspec in c:\\users\\chong\\onedrive\\desktop\\git repositories\\hack-roll2025\\env\\lib\\site-packages (from torch) (2024.10.0)\n",
      "Requirement already satisfied: setuptools in c:\\users\\chong\\onedrive\\desktop\\git repositories\\hack-roll2025\\env\\lib\\site-packages (from torch) (75.5.0)\n",
      "Requirement already satisfied: sympy==1.13.1 in c:\\users\\chong\\onedrive\\desktop\\git repositories\\hack-roll2025\\env\\lib\\site-packages (from torch) (1.13.1)\n",
      "Requirement already satisfied: mpmath<1.4,>=1.1.0 in c:\\users\\chong\\onedrive\\desktop\\git repositories\\hack-roll2025\\env\\lib\\site-packages (from sympy==1.13.1->torch) (1.3.0)\n",
      "Requirement already satisfied: numpy in c:\\users\\chong\\onedrive\\desktop\\git repositories\\hack-roll2025\\env\\lib\\site-packages (from torchvision) (1.26.4)\n",
      "Requirement already satisfied: pillow!=8.3.*,>=5.3.0 in c:\\users\\chong\\onedrive\\desktop\\git repositories\\hack-roll2025\\env\\lib\\site-packages (from torchvision) (10.4.0)\n",
      "Requirement already satisfied: MarkupSafe>=2.0 in c:\\users\\chong\\onedrive\\desktop\\git repositories\\hack-roll2025\\env\\lib\\site-packages (from jinja2->torch) (2.1.5)\n",
      "Note: you may need to restart the kernel to use updated packages.\n"
     ]
    }
   ],
   "source": [
    "%pip install torch torchvision torchaudio --index-url https://download.pytorch.org/whl/cu124"
   ]
  },
  {
   "cell_type": "markdown",
   "metadata": {},
   "source": [
    "### Check for CUDA Availability"
   ]
  },
  {
   "cell_type": "code",
   "execution_count": 2,
   "metadata": {},
   "outputs": [
    {
     "name": "stdout",
     "output_type": "stream",
     "text": [
      "Using device: cuda\n"
     ]
    }
   ],
   "source": [
    "import torch\n",
    "\n",
    "device = torch.device(\"cuda\" if torch.cuda.is_available() else \"cpu\")\n",
    "print(f\"Using device: {device}\")"
   ]
  },
  {
   "cell_type": "markdown",
   "metadata": {},
   "source": [
    "### Step 2: Define Model Architecture\n",
    "Use a pretrained model as a starting point, such as resnet18 from PyTorch’s model zoo. You can modify the final layer to match the number of emotion classes."
   ]
  },
  {
   "cell_type": "code",
   "execution_count": 3,
   "metadata": {},
   "outputs": [
    {
     "name": "stderr",
     "output_type": "stream",
     "text": [
      "c:\\Users\\chong\\OneDrive\\Desktop\\Git Repositories\\Hack-Roll2025\\env\\Lib\\site-packages\\torchvision\\models\\_utils.py:208: UserWarning: The parameter 'pretrained' is deprecated since 0.13 and may be removed in the future, please use 'weights' instead.\n",
      "  warnings.warn(\n",
      "c:\\Users\\chong\\OneDrive\\Desktop\\Git Repositories\\Hack-Roll2025\\env\\Lib\\site-packages\\torchvision\\models\\_utils.py:223: UserWarning: Arguments other than a weight enum or `None` for 'weights' are deprecated since 0.13 and may be removed in the future. The current behavior is equivalent to passing `weights=ResNet18_Weights.IMAGENET1K_V1`. You can also use `weights=ResNet18_Weights.DEFAULT` to get the most up-to-date weights.\n",
      "  warnings.warn(msg)\n"
     ]
    }
   ],
   "source": [
    "import torch\n",
    "import torch.nn as nn\n",
    "from torchvision import models\n",
    "\n",
    "# Load pre-trained model and modify for the number of emotion classes\n",
    "num_classes = 5\n",
    "model = models.resnet18(pretrained=True)\n",
    "model.fc = nn.Linear(model.fc.in_features, num_classes)  # Modify final layer"
   ]
  },
  {
   "cell_type": "markdown",
   "metadata": {},
   "source": [
    "### Step 3: Load data\n",
    "Load training and testing datasets"
   ]
  },
  {
   "cell_type": "code",
   "execution_count": 4,
   "metadata": {},
   "outputs": [],
   "source": [
    "# Original dataset\n",
    "original_dataset1 = './fer/original'\n",
    "\n",
    "# Training dataset\n",
    "train_dataset1 = './fer/train'\n",
    "\n",
    "# Testing dataset\n",
    "test_dataset1 = './fer/test'"
   ]
  },
  {
   "cell_type": "code",
   "execution_count": 5,
   "metadata": {},
   "outputs": [
    {
     "name": "stdout",
     "output_type": "stream",
     "text": [
      "Dataset1 total number of images:  30219\n"
     ]
    }
   ],
   "source": [
    "import os\n",
    "import matplotlib.pyplot as plt\n",
    "\n",
    "def count_images_in_folders(dataset_path):\n",
    "    emotion_counts = {}\n",
    "    \n",
    "    # Iterate over each emotion folder\n",
    "    for emotion_folder in os.listdir(dataset_path):\n",
    "        folder_path = os.path.join(dataset_path, emotion_folder)\n",
    "        if os.path.isdir(folder_path):\n",
    "            # Count images in each emotion folder\n",
    "            num_images = len([file for file in os.listdir(folder_path) if file.endswith(('.png', '.jpg', '.jpeg'))])\n",
    "            emotion_counts[emotion_folder] = num_images\n",
    "\n",
    "    return emotion_counts\n",
    "\n",
    "# Count images in each dataset\n",
    "original_counts1 = count_images_in_folders(original_dataset1)\n",
    "train1_counts = count_images_in_folders(train_dataset1)\n",
    "test1_counts = count_images_in_folders(test_dataset1)\n",
    "\n",
    "print(\"Dataset1 total number of images: \", sum(train1_counts.values()) + sum(test1_counts.values()))"
   ]
  },
  {
   "cell_type": "markdown",
   "metadata": {},
   "source": [
    "Plotting the number of images per emotion on each dataset"
   ]
  },
  {
   "cell_type": "code",
   "execution_count": 6,
   "metadata": {},
   "outputs": [
    {
     "data": {
      "image/png": "[encoded data removed]",
      "text/plain": [
       "<Figure size 800x500 with 1 Axes>"
      ]
     },
     "metadata": {},
     "output_type": "display_data"
    },
    {
     "data": {
      "image/png": "[encoded data removed]",
      "text/plain": [
       "<Figure size 800x500 with 1 Axes>"
      ]
     },
     "metadata": {},
     "output_type": "display_data"
    },
    {
     "data": {
      "image/png": "[encoded data removed]",
      "text/plain": [
       "<Figure size 800x500 with 1 Axes>"
      ]
     },
     "metadata": {},
     "output_type": "display_data"
    }
   ],
   "source": [
    "import numpy as np\n",
    "\n",
    "# Function to plot the counts for each dataset\n",
    "def plot_image_counts(counts_dict, dataset_name):\n",
    "    emotions = list(counts_dict.keys())\n",
    "    counts = list(counts_dict.values())\n",
    "    \n",
    "    plt.figure(figsize=(8, 5))\n",
    "    plt.bar(emotions, counts)\n",
    "    plt.xlabel(\"Emotion\")\n",
    "    plt.ylabel(\"Number of Images\")\n",
    "    # plt.title(f\"Number of Images per Emotion {dataset_name}\")\n",
    "    plt.xticks(rotation=45)\n",
    "    plt.show()\n",
    "\n",
    "# Plot counts for each dataset\n",
    "plot_image_counts(original_counts1, \"\")\n",
    "plot_image_counts(train1_counts, \"Train Dataset 1\")\n",
    "plot_image_counts(test1_counts, \"Test Dataset 1\")"
   ]
  },
  {
   "cell_type": "code",
   "execution_count": 7,
   "metadata": {},
   "outputs": [
    {
     "data": {
      "text/plain": [
       "'2.5.1+cu124'"
      ]
     },
     "execution_count": 7,
     "metadata": {},
     "output_type": "execute_result"
    }
   ],
   "source": [
    "torch.__version__"
   ]
  },
  {
   "cell_type": "markdown",
   "metadata": {},
   "source": [
    "Since we will be using dataset 1 to train the initial model, and apply adaptive learning to dataset 2, we can merge the training and testing datasets together"
   ]
  },
  {
   "cell_type": "code",
   "execution_count": 8,
   "metadata": {},
   "outputs": [],
   "source": [
    "from torchvision import datasets, transforms\n",
    "from torch.utils.data import DataLoader, ConcatDataset\n",
    "\n",
    "# Define transformations\n",
    "transform = transforms.Compose([\n",
    "    transforms.Resize((224, 224)),  # Resize images to a fixed size (optional)\n",
    "    transforms.ToTensor()           # Convert images to PyTorch tensors\n",
    "])\n",
    "\n",
    "# Load datasets\n",
    "train_initial_dataset =  datasets.ImageFolder(root=train_dataset1, transform=transform)\n",
    "test_initial_dataset = datasets.ImageFolder(root=test_dataset1, transform=transform)\n",
    "\n",
    "train_initial_loader = DataLoader(train_initial_dataset, batch_size=32, shuffle=True)\n",
    "test_initial_loader = DataLoader(test_initial_dataset, batch_size=32, shuffle=False)"
   ]
  },
  {
   "cell_type": "markdown",
   "metadata": {},
   "source": [
    "To address the imbalance in data, we can apply class weights to the CrossEntropyLoss"
   ]
  },
  {
   "cell_type": "code",
   "execution_count": 9,
   "metadata": {},
   "outputs": [
    {
     "name": "stdout",
     "output_type": "stream",
     "text": [
      "Counter({1: 7215, 2: 4965, 3: 4830, 0: 3995, 4: 3171})\n",
      "Number of classes: 5\n",
      "Class weights: [0.00025031289111389235, 0.0001386001386001386, 0.0002014098690835851, 0.00020703933747412008, 0.000315357931251971]\n"
     ]
    }
   ],
   "source": [
    "from collections import Counter\n",
    "\n",
    "# Assuming `train_dataset` is an instance of `ImageFolder` or a similar dataset\n",
    "labels = [label for _, label in train_initial_dataset]\n",
    "class_counts = Counter(labels)\n",
    "print(class_counts)\n",
    "\n",
    "# Calculate class weights\n",
    "num_classes = len(class_counts)\n",
    "print(f\"Number of classes: {num_classes}\")\n",
    "class_weights = [1.0 / class_counts[i] for i in range(num_classes)]\n",
    "print(f\"Class weights: {class_weights}\")\n",
    "class_weights = torch.FloatTensor(class_weights).to(device)  # Move to GPU if needed\n",
    "\n",
    "criterion = torch.nn.CrossEntropyLoss(weight=class_weights)\n"
   ]
  },
  {
   "cell_type": "markdown",
   "metadata": {},
   "source": [
    "### Step 4: Training on Dataset\n",
    "Define the training loop to train on train_dataset1."
   ]
  },
  {
   "cell_type": "code",
   "execution_count": 10,
   "metadata": {},
   "outputs": [
    {
     "name": "stdout",
     "output_type": "stream",
     "text": [
      "Loaded model checkpoint\n"
     ]
    },
    {
     "name": "stderr",
     "output_type": "stream",
     "text": [
      "C:\\Users\\chong\\AppData\\Local\\Temp\\ipykernel_3868\\1165471699.py:31: FutureWarning: You are using `torch.load` with `weights_only=False` (the current default value), which uses the default pickle module implicitly. It is possible to construct malicious pickle data which will execute arbitrary code during unpickling (See https://github.com/pytorch/pytorch/blob/main/SECURITY.md#untrusted-models for more details). In a future release, the default value for `weights_only` will be flipped to `True`. This limits the functions that could be executed during unpickling. Arbitrary objects will no longer be allowed to be loaded via this mode unless they are explicitly allowlisted by the user via `torch.serialization.add_safe_globals`. We recommend you start setting `weights_only=True` for any use case where you don't have full control of the loaded file. Please open an issue on GitHub for any issues related to this experimental feature.\n",
      "  model.load_state_dict(torch.load(checkpoint_path))\n"
     ]
    }
   ],
   "source": [
    "from torch.optim import Adam\n",
    "from torchvision import datasets\n",
    "from torch.utils.data import DataLoader\n",
    "import os\n",
    "\n",
    "if device.type == \"cuda\":\n",
    "    # Move the model to the GPU\n",
    "    model = model.to(device)\n",
    "\n",
    "# Define loss function and optimizer\n",
    "# criterion = nn.CrossEntropyLoss()\n",
    "optimizer = Adam(model.parameters(), lr=0.001)\n",
    "\n",
    "# Training function\n",
    "def train(model, data_loader, criterion, optimizer, epochs=5):\n",
    "    model.train()\n",
    "    for epoch in range(epochs):\n",
    "        for images, labels in data_loader:\n",
    "            images, labels = images.to(device), labels.to(device)  # Move to GPU if available\n",
    "            outputs = model(images)\n",
    "            loss = criterion(outputs, labels)\n",
    "            optimizer.zero_grad()\n",
    "            loss.backward()\n",
    "            optimizer.step()\n",
    "        print(f\"Epoch [{epoch+1}/{epochs}], Loss: {loss.item():.4f}\")\n",
    "\n",
    "checkpoint_path = 'initial_model.pth'\n",
    "\n",
    "if os.path.exists(checkpoint_path):\n",
    "    # Load the model checkpoint if it exists\n",
    "    model.load_state_dict(torch.load(checkpoint_path))\n",
    "    print(\"Loaded model checkpoint\")   \n",
    "else:\n",
    "    train(model, train_initial_loader, criterion, optimizer)\n",
    "    # print(\"proceeds to train\")"
   ]
  },
  {
   "cell_type": "markdown",
   "metadata": {},
   "source": [
    "Once the model has been trained, we can save the model state dictionary, so that we can load it later."
   ]
  },
  {
   "cell_type": "code",
   "execution_count": 11,
   "metadata": {},
   "outputs": [],
   "source": [
    "import torch\n",
    "\n",
    "# Save the model's state dictionary\n",
    "torch.save(model.state_dict(), \"initial_model.pth\")"
   ]
  },
  {
   "cell_type": "code",
   "execution_count": null,
   "metadata": {},
   "outputs": [
    {
     "name": "stderr",
     "output_type": "stream",
     "text": [
      "C:\\Users\\chong\\AppData\\Local\\Temp\\ipykernel_3868\\1545321546.py:47: DeprecationWarning: Callback API version 1 is deprecated, update to latest version\n",
      "  client = mqtt_client.Client()\n"
     ]
    },
    {
     "name": "stdout",
     "output_type": "stream",
     "text": [
      "Connected to MQTT Broker!\n",
      "Press 'q' to quit.\n",
      "Connected to MQTT Broker!\n"
     ]
    }
   ],
   "source": [
    "import torch\n",
    "import cv2\n",
    "from torchvision import transforms\n",
    "from PIL import Image\n",
    "import numpy as np\n",
    "from paho.mqtt import client as mqtt_client\n",
    "import threading  # For running MQTT in parallel\n",
    "import time\n",
    "\n",
    "# MQTT configuration\n",
    "# broker_address = \"192.168.86.24\"\n",
    "broker_address = \"10.42.0.32\"\n",
    "broker_port = 1883\n",
    "topic = 'sensor'\n",
    "\n",
    "# class_labels = test_initial_loader.dataset.classes\n",
    "\n",
    "# Global variable for sensor data\n",
    "class_labels = ['angry', 'happy', 'neutral', 'sad', 'surprised']\n",
    "sensor_data = [\"N/A\", \"N/A\", \"N/A\", \"N/A\"]  # Default values: [Temperature, Humidity, Distance, Light]\n",
    "\n",
    "# Define the transformations\n",
    "transform = transforms.Compose([\n",
    "    transforms.Resize((224, 224)),  # Adjust based on model input size\n",
    "    transforms.ToTensor(),\n",
    "    transforms.Normalize(mean=[0.485, 0.456, 0.406], std=[0.229, 0.224, 0.225])\n",
    "])\n",
    "\n",
    "def predict_frame(frame):\n",
    "    \"\"\"Predict the class for a given video frame.\"\"\"\n",
    "    pil_image = Image.fromarray(frame)  # Convert from OpenCV image to PIL\n",
    "    input_tensor = transform(pil_image).unsqueeze(0)  # Add batch dimension\n",
    "    input_tensor = input_tensor.to('cuda')  # Move to GPU\n",
    "    with torch.no_grad():\n",
    "        outputs = model(input_tensor)\n",
    "        _, predicted = torch.max(outputs, 1)\n",
    "    return class_labels[predicted.item()]\n",
    "\n",
    "# MQTT connection and subscription\n",
    "def connect_mqtt():\n",
    "    def on_connect(client, userdata, flags, rc):\n",
    "        if rc == 0:\n",
    "            print(\"Connected to MQTT Broker!\")\n",
    "        else:\n",
    "            print(f\"Failed to connect, return code {rc}\")\n",
    "\n",
    "    client = mqtt_client.Client()\n",
    "    client.on_connect = on_connect\n",
    "    client.connect(broker_address, broker_port)\n",
    "    return client\n",
    "\n",
    "def subscribe(client):\n",
    "    def on_message(client, userdata, msg):\n",
    "        global sensor_data\n",
    "        try:\n",
    "            message = msg.payload.decode()\n",
    "            temperature, humidity, distance, light = message.split('+')\n",
    "            sensor_data = [temperature.strip(), humidity.strip(), distance.strip(), light.strip()]\n",
    "        except Exception as e:\n",
    "            print(f\"Error processing MQTT message: {e}\")\n",
    "    client.subscribe(topic)\n",
    "    client.on_message = on_message\n",
    "\n",
    "# Run MQTT client in a separate thread\n",
    "def start_mqtt():\n",
    "    client = connect_mqtt()\n",
    "    subscribe(client)\n",
    "    client.loop_forever()\n",
    "\n",
    "# Start the MQTT client in a separate thread\n",
    "mqtt_thread = threading.Thread(target=start_mqtt, daemon=True)\n",
    "mqtt_thread.start()\n",
    "\n",
    "# Start the camera feed\n",
    "cap = cv2.VideoCapture(1)  # 0 for default camera\n",
    "\n",
    "if not cap.isOpened():\n",
    "    print(\"Error: Could not open camera.\")\n",
    "    exit()\n",
    "\n",
    "print(\"Press 'q' to quit.\")\n",
    "\n",
    "is_camera = True\n",
    "\n",
    "if (is_camera):\n",
    "    while True:\n",
    "        ret, frame = cap.read()\n",
    "        if not ret:\n",
    "            print(\"Error: Failed to capture frame.\")\n",
    "            break\n",
    "\n",
    "        # Convert BGR (OpenCV default) to RGB\n",
    "        rgb_frame = cv2.cvtColor(frame, cv2.COLOR_BGR2RGB)\n",
    "\n",
    "        # Predict the class\n",
    "        predicted_class = predict_frame(rgb_frame)\n",
    "\n",
    "        # Overlay prediction, temperature, and humidity on the frame\n",
    "        cv2.putText(frame, f\"Prediction: {predicted_class}\", (10, 30),\n",
    "                    cv2.FONT_HERSHEY_SIMPLEX, 0.5, (0, 0, 0), 2)\n",
    "        cv2.putText(frame, f\"Temperature: {sensor_data[0]} C\", (10, 60),\n",
    "                    cv2.FONT_HERSHEY_SIMPLEX, 0.5, (0, 0, 0), 2)\n",
    "        cv2.putText(frame, f\"Humidity: {sensor_data[1]}%\", (10, 90),\n",
    "                    cv2.FONT_HERSHEY_SIMPLEX, 0.5, (0, 0, 0), 2)\n",
    "        cv2.putText(frame, f\"Distance: {sensor_data[2]}cm\", (10, 120),\n",
    "                    cv2.FONT_HERSHEY_SIMPLEX, 0.5, (0, 0, 0), 2)\n",
    "        cv2.putText(frame, f\"Light: {sensor_data[3]}/100\", (10, 150),\n",
    "                    cv2.FONT_HERSHEY_SIMPLEX, 0.5, (0, 0, 0), 2)\n",
    "\n",
    "        # Show the frame\n",
    "        cv2.imshow('Real-time Prediction', frame)\n",
    "\n",
    "        # Quit if 'q' is pressed\n",
    "        if cv2.waitKey(1) & 0xFF == ord('q'):\n",
    "            break\n",
    "else:\n",
    "    # Load an image instead of capturing from the camera\n",
    "    image_path = \"test.jpg\"  # Replace with the path to your image\n",
    "    frame = cv2.imread(image_path)  # Load the image\n",
    "\n",
    "    if frame is None:\n",
    "        print(\"Error: Could not load image.\")\n",
    "        exit()\n",
    "\n",
    "    # Convert BGR (OpenCV default) to RGB\n",
    "    rgb_frame = cv2.cvtColor(frame, cv2.COLOR_BGR2RGB)\n",
    "\n",
    "    # Predict the class\n",
    "    predicted_class = predict_frame(rgb_frame)\n",
    "\n",
    "    while True:\n",
    "        # Display the image with the overlays\n",
    "        # cv2.imshow('Image Prediction', frame)\n",
    "        print(f\"Prediction: {predicted_class}\")\n",
    "        print(f\"Temperature: {sensor_data[0]} C\")\n",
    "        print(f\"Humidity: {sensor_data[1]}%\")\n",
    "        time.sleep(2.0)\n",
    "        # Check if the window is still open\n",
    "        # if cv2.getWindowProperty('Image Prediction', cv2.WND_PROP_VISIBLE) < 1:\n",
    "        #     break\n",
    "\n",
    "# Release the camera and close the window\n",
    "cap.release()\n",
    "cv2.destroyAllWindows()\n"
   ]
  }
 ],
 "metadata": {
  "kernelspec": {
   "display_name": "env",
   "language": "python",
   "name": "python3"
  },
  "language_info": {
   "codemirror_mode": {
    "name": "ipython",
    "version": 3
   },
   "file_extension": ".py",
   "mimetype": "text/x-python",
   "name": "python",
   "nbconvert_exporter": "python",
   "pygments_lexer": "ipython3",
   "version": "3.12.6"
  }
 },
 "nbformat": 4,
 "nbformat_minor": 2
}
